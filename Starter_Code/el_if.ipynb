{
 "cells": [
  {
   "cell_type": "code",
   "execution_count": 37,
   "id": "3390969b-cca0-437b-a4de-4d2171d5c2fc",
   "metadata": {},
   "outputs": [
    {
     "name": "stdout",
     "output_type": "stream",
     "text": [
      "Please select a valid risk level.\n"
     ]
    }
   ],
   "source": [
    "risk_level = \"X\"\n",
    "\n",
    "if risk_level == \"None\":\n",
    "    print(f\"100% bonds (AGG), 0% equities (SPY).\")\n",
    "    \n",
    "elif risk_level == \"Low\":\n",
    "        print(f\"60% bonds (AGG), 40% equities (SPY).\")\n",
    "        \n",
    "elif risk_level == \"Medium\":\n",
    "        print(f\"40% bonds (AGG), 60% equities (SPY).\")\n",
    "\n",
    "elif risk_level == \"High\": \n",
    "     print(\"20% bonds (AGG), 80% equities (SPY).\")\n",
    "        \n",
    "else:\n",
    "    print(f\"Please select a valid risk level.\")"
   ]
  },
  {
   "cell_type": "code",
   "execution_count": null,
   "id": "8b20a526-d014-4b9a-b3e3-ecde2834b642",
   "metadata": {},
   "outputs": [],
   "source": []
  }
 ],
 "metadata": {
  "kernelspec": {
   "display_name": "dev",
   "language": "python",
   "name": "dev"
  },
  "language_info": {
   "codemirror_mode": {
    "name": "ipython",
    "version": 3
   },
   "file_extension": ".py",
   "mimetype": "text/x-python",
   "name": "python",
   "nbconvert_exporter": "python",
   "pygments_lexer": "ipython3",
   "version": "3.7.13"
  }
 },
 "nbformat": 4,
 "nbformat_minor": 5
}
